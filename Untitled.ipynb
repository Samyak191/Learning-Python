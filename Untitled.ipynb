{
 "cells": [
  {
   "cell_type": "code",
   "execution_count": null,
   "id": "6c050428",
   "metadata": {},
   "outputs": [],
   "source": [
    "print('hello world')"
   ]
  },
  {
   "cell_type": "code",
   "execution_count": null,
   "id": "0a7c5321",
   "metadata": {},
   "outputs": [],
   "source": [
    "4+9\n"
   ]
  },
  {
   "cell_type": "code",
   "execution_count": null,
   "id": "84c20439",
   "metadata": {},
   "outputs": [],
   "source": [
    "a=6\n",
    "g=9\n",
    "sum=a+g"
   ]
  },
  {
   "cell_type": "code",
   "execution_count": null,
   "id": "3728e4e0",
   "metadata": {},
   "outputs": [],
   "source": [
    "sum"
   ]
  },
  {
   "cell_type": "code",
   "execution_count": null,
   "id": "c6c10f29",
   "metadata": {},
   "outputs": [],
   "source": [
    "a=input()\n",
    "b=input()\n",
    "print(a b)"
   ]
  },
  {
   "cell_type": "code",
   "execution_count": null,
   "id": "2ae9ad50",
   "metadata": {},
   "outputs": [],
   "source": [
    "print(a)\n"
   ]
  },
  {
   "cell_type": "code",
   "execution_count": null,
   "id": "d955c81f",
   "metadata": {},
   "outputs": [],
   "source": [
    "a=input()\n",
    "b=input()\n",
    "print(a)"
   ]
  },
  {
   "cell_type": "code",
   "execution_count": null,
   "id": "be9c99ce",
   "metadata": {},
   "outputs": [],
   "source": [
    "print(type(a))"
   ]
  },
  {
   "cell_type": "code",
   "execution_count": null,
   "id": "3ec5fa68",
   "metadata": {},
   "outputs": [],
   "source": [
    "a=int(a)"
   ]
  },
  {
   "cell_type": "code",
   "execution_count": null,
   "id": "2dc8ed74",
   "metadata": {},
   "outputs": [],
   "source": [
    "print(type(a))"
   ]
  },
  {
   "cell_type": "code",
   "execution_count": null,
   "id": "fc98f108",
   "metadata": {},
   "outputs": [],
   "source": [
    "a=input()\n",
    "b=input()\n",
    "print(a+b)"
   ]
  },
  {
   "cell_type": "code",
   "execution_count": null,
   "id": "9043d8c1",
   "metadata": {},
   "outputs": [],
   "source": [
    "a=int(input())\n",
    "b=int(input())\n",
    "print(a+b)"
   ]
  },
  {
   "cell_type": "code",
   "execution_count": null,
   "id": "f4045deb",
   "metadata": {},
   "outputs": [],
   "source": [
    "a=int(input(\"Value of a=\"))\n",
    "b=int(input(\"Value of b=\"))\n",
    "print(a+b)"
   ]
  },
  {
   "cell_type": "code",
   "execution_count": null,
   "id": "017e8277",
   "metadata": {},
   "outputs": [],
   "source": [
    "a=int(input(\"Value of a=\"))\n",
    "b=int(input(\"Value of b=\"))"
   ]
  },
  {
   "cell_type": "code",
   "execution_count": null,
   "id": "a4fa6141",
   "metadata": {},
   "outputs": [],
   "source": [
    "a=int(input(\"Value of a=\"))\n",
    "b=int(input(\"Value of b=\"))\n",
    "print(a**b)"
   ]
  },
  {
   "cell_type": "code",
   "execution_count": null,
   "id": "77b4aed1",
   "metadata": {},
   "outputs": [],
   "source": [
    "for i in \"Samyak\":\n",
    "    print(i)"
   ]
  },
  {
   "cell_type": "code",
   "execution_count": null,
   "id": "74d77020",
   "metadata": {},
   "outputs": [],
   "source": [
    "print(\"Hello\")"
   ]
  },
  {
   "cell_type": "code",
   "execution_count": null,
   "id": "c08371d3",
   "metadata": {},
   "outputs": [],
   "source": [
    "print(\"h\")"
   ]
  },
  {
   "cell_type": "code",
   "execution_count": null,
   "id": "e61f2396",
   "metadata": {},
   "outputs": [],
   "source": [
    "a=9\n",
    "b=8\n",
    "print(a,b)"
   ]
  },
  {
   "cell_type": "code",
   "execution_count": null,
   "id": "bd9ae794",
   "metadata": {},
   "outputs": [],
   "source": [
    "a=int(input(\"enter value of a\"))\n",
    "print(a)"
   ]
  },
  {
   "cell_type": "code",
   "execution_count": null,
   "id": "97ff0076",
   "metadata": {},
   "outputs": [],
   "source": [
    "a=int(input(\"enter value of a\"))\n",
    "b=int(input(\"enter value of b\"))\n",
    "print(a+b)"
   ]
  },
  {
   "cell_type": "code",
   "execution_count": null,
   "id": "2f7640d1",
   "metadata": {},
   "outputs": [],
   "source": [
    "a=int(input(\"apna input dijiye\"))\n",
    "if a>89:\n",
    "    print(\"Samyak\")\n",
    "elif a<1:\n",
    "    print(\"sjdvkjdv\")\n",
    "else:\n",
    "    print(\"Mujhe chodd do\")"
   ]
  },
  {
   "cell_type": "code",
   "execution_count": null,
   "id": "5d1df429",
   "metadata": {},
   "outputs": [],
   "source": [
    "a=int(input(\"Enter value of a\"))\n",
    "b=int(input(\"Enter value of b\"))\n",
    "print(\"Press 1,2,3,4 for addition,subtraction,multiplication and division respectively\")\n",
    "x=int(input())\n",
    "if x==1:\n",
    "    print(a+b)\n",
    "elif x==2:\n",
    "    print(a-b)\n",
    "elif x==3:\n",
    "    print(a*b)\n",
    "elif x==4:\n",
    "    print(a/b)\n"
   ]
  },
  {
   "cell_type": "code",
   "execution_count": null,
   "id": "8dcc04fc",
   "metadata": {},
   "outputs": [],
   "source": [
    "a=input(\"Apna Naam likh Chutiye dekh kya rha hai\")\n",
    "b=input(\"enter element of string u want to search\")\n",
    "if b in a:\n",
    "    print(\"YOYO\")"
   ]
  },
  {
   "cell_type": "code",
   "execution_count": null,
   "id": "0edea15e",
   "metadata": {},
   "outputs": [],
   "source": [
    "for i in \"Samyak\":\n",
    "    print(i)"
   ]
  },
  {
   "cell_type": "code",
   "execution_count": null,
   "id": "6a622f54",
   "metadata": {},
   "outputs": [],
   "source": [
    "for i in range(6):\n",
    "    print(i)\n",
    "    print(type(i))"
   ]
  },
  {
   "cell_type": "code",
   "execution_count": null,
   "id": "f3c68b9f",
   "metadata": {
    "scrolled": true
   },
   "outputs": [],
   "source": [
    "a=input(\"enter your name\")\n",
    "b=input(\"enter element u want to search\")\n",
    "count=0\n",
    "for i in a:\n",
    "    if i==b:\n",
    "        \n",
    "        count=count+1\n",
    "print(count)\n",
    "    "
   ]
  },
  {
   "cell_type": "code",
   "execution_count": null,
   "id": "b07ce4ab",
   "metadata": {},
   "outputs": [],
   "source": [
    "a=90\n",
    "print(\"Value of a is\",a)"
   ]
  },
  {
   "cell_type": "code",
   "execution_count": null,
   "id": "24d9fb11",
   "metadata": {},
   "outputs": [],
   "source": [
    "a=90\n",
    "b=80\n",
    "print(\"Value of a is {} Value of b is{}\".format(a,b))"
   ]
  },
  {
   "cell_type": "code",
   "execution_count": null,
   "id": "260016f4",
   "metadata": {},
   "outputs": [],
   "source": [
    "a=int(input(\"enter number\"))\n",
    "b=int(input(\"enter 2nd number\"))\n",
    "print(\"Sume of {} and {}\".format(a,b), a+b)"
   ]
  },
  {
   "cell_type": "code",
   "execution_count": null,
   "id": "7b1312fb",
   "metadata": {},
   "outputs": [],
   "source": [
    "a=int(input(\"Enter the number\"))\n",
    "f=1\n",
    "for i in range(1,a+1):\n",
    "      f=f*i\n",
    "print(f)"
   ]
  },
  {
   "cell_type": "code",
   "execution_count": null,
   "id": "a1b39c36",
   "metadata": {},
   "outputs": [],
   "source": [
    "a=int(input(\"enter numbr\"))\n",
    "\n",
    "for i in range(0,a+1):\n",
    "    print(i*i)\n",
    "\n",
    "      \n",
    "      \n",
    "      "
   ]
  },
  {
   "cell_type": "code",
   "execution_count": null,
   "id": "a72b4c04",
   "metadata": {},
   "outputs": [],
   "source": [
    "a=int(input(\"enter numbr\"))\n",
    "for i in range(0,a+1):\n",
    "    if i%2==0:\n",
    "        print(i)"
   ]
  },
  {
   "cell_type": "code",
   "execution_count": null,
   "id": "2e36d534",
   "metadata": {},
   "outputs": [],
   "source": [
    "a=int(input(\"enter number of times u want to enter\"))\n",
    "for i in range(0,a):\n",
    "    b=int(input(\"enter year \"))\n",
    "    if b%4==0:\n",
    "        print(\"leap year hai chutiye\")\n",
    "    else:\n",
    "        print(\"nhi hai\")\n",
    "    "
   ]
  },
  {
   "cell_type": "code",
   "execution_count": null,
   "id": "76a466e6",
   "metadata": {},
   "outputs": [],
   "source": [
    "a=int(input(\"enter number \"))\n",
    "count=0\n",
    "for i in range(1,a+1):\n",
    "    if i%7==0:\n",
    "        count=count+1\n",
    "print(count)\n",
    "\n",
    "\n",
    "        \n",
    "    \n",
    "    \n",
    "    \n",
    "    "
   ]
  },
  {
   "cell_type": "code",
   "execution_count": null,
   "id": "76fc4397",
   "metadata": {},
   "outputs": [],
   "source": [
    "a=int(input(\"enter minutes\"))\n",
    "b=0\n",
    "c=0\n",
    "b=a//60\n",
    "c=a%60\n",
    "print(\"Hours {} , minutes {}\".format(b,c))"
   ]
  },
  {
   "cell_type": "code",
   "execution_count": null,
   "id": "6bf21cf4",
   "metadata": {},
   "outputs": [],
   "source": [
    "def check_LeapYear(year):\n",
    "    if(year%4==0):\n",
    "        return 'leap'\n",
    "    else:\n",
    "        return 'no'\n",
    "y=int(input())\n",
    "print(check_LeapYear(y))"
   ]
  },
  {
   "cell_type": "code",
   "execution_count": null,
   "id": "4317e308",
   "metadata": {},
   "outputs": [],
   "source": [
    "def checkeven(n):\n",
    "    if n%2==0:\n",
    "        print(\"even \")\n",
    "    else:\n",
    "        print(\"odd hai\")\n",
    "    \n",
    "       \n",
    "b=int(input(\"enter times\"))\n",
    "\n",
    "for i in range(0,b):\n",
    "    number=int(input(\" enter numvber\"))\n",
    "    checkeven(number)\n",
    "        \n",
    "    "
   ]
  },
  {
   "cell_type": "code",
   "execution_count": null,
   "id": "aa6618fc",
   "metadata": {},
   "outputs": [],
   "source": [
    "def nameage(n,a):\n",
    "    print(\"Name {} , Age {}\".format(n,a))\n",
    "name=input(\"Enter Name \")\n",
    "age=int(input(\"Enter age \"))\n",
    "nameage(name,age)\n",
    "    "
   ]
  },
  {
   "cell_type": "code",
   "execution_count": null,
   "id": "84186522",
   "metadata": {
    "scrolled": true
   },
   "outputs": [],
   "source": [
    "def factorial(f):\n",
    "    t=1\n",
    "    for i in range(1,f+1):\n",
    "      t=t*i\n",
    "    return t\n",
    "\n",
    "fact=int(input(\"Enter Number\"))\n",
    "print(factorial(fact))"
   ]
  },
  {
   "cell_type": "code",
   "execution_count": null,
   "id": "fe332bf6",
   "metadata": {},
   "outputs": [],
   "source": [
    "def evenodd(n):\n",
    "    if n%2==0:\n",
    "        return \"even \"\n",
    "    else:\n",
    "        return \"odd\"\n",
    "number=int(input(\"enter number\"))\n",
    "print(evenodd(number))\n",
    " \n",
    "            \n",
    "    \n",
    "    "
   ]
  },
  {
   "cell_type": "code",
   "execution_count": null,
   "id": "77fc825e",
   "metadata": {},
   "outputs": [],
   "source": [
    "l=[]\n",
    "b=int(input(\"enter number of elements\"))\n",
    "for i in range(b):\n",
    "    ele=int(input(\"enter array\"))\n",
    "    l.append(ele)\n",
    "    \n",
    "print(l)"
   ]
  },
  {
   "cell_type": "markdown",
   "id": "3c5a8e4d",
   "metadata": {},
   "source": []
  },
  {
   "cell_type": "code",
   "execution_count": null,
   "id": "6407ce33",
   "metadata": {},
   "outputs": [],
   "source": [
    "conn = c.connect(user='root', host='localhost', password='Girik@123',db='db')\n",
    "cur=conn.cursor()\n",
    "\n",
    "cur.execute(\"create table developer(Program_language varchar(20),duration int,consultancy varchar(10))\")\n",
    "cur.execute(\"insert into developer values('Girik', 19, 'O')\")\n",
    "cur.execute(\"insert into developer values('Mayank', 20, 'O')\")\n",
    "cur.execute(\"insert into developer values('Harsh', 21, 'O')\")\n",
    "conn.commit()\n",
    "cur.execute(\"select * from developer\")"
   ]
  },
  {
   "cell_type": "code",
   "execution_count": null,
   "id": "969e49d9",
   "metadata": {},
   "outputs": [],
   "source": [
    "import tkinter as tk\n",
    "m=tk.Tk()\n",
    "l=tk.Label(m,text=\"what is your name\")\n",
    "l.pack()\n",
    "e=tk.Entry(m)\n",
    "e.pack()\n",
    "b=tk.Button(m,text=\"enter\",command=lambda x: print(\"done\"))\n",
    "b.pack()"
   ]
  },
  {
   "cell_type": "code",
   "execution_count": null,
   "id": "b3007421",
   "metadata": {},
   "outputs": [],
   "source": [
    "import tkinter as tk\n",
    "\n",
    "window=tk.Tk()\n",
    "frame=tk.Frame()\n",
    "frame.pack()\n",
    "window.mainloop()\n",
    "frame.pack()\n"
   ]
  },
  {
   "cell_type": "code",
   "execution_count": null,
   "id": "f6f8ee0f",
   "metadata": {},
   "outputs": [],
   "source": [
    "frame a =tk.a"
   ]
  },
  {
   "cell_type": "code",
   "execution_count": null,
   "id": "90930f94",
   "metadata": {},
   "outputs": [],
   "source": [
    "Spyder\n",
    "\n",
    "File Edit Search Source Run Debug Consoles Projects Tools View Help\n",
    "\n",
    "I\n",
    "\n",
    "「\n",
    "\n",
    "8\n",
    "\n",
    "8\n",
    "\n",
    "C:\\Users\\naman spyder-py3\\untitled0.py\n",
    "\n",
    "temp.py X untitled0.py X\n",
    "\n",
    "#coding: utf-8 -*\n",
    "\n",
    "Created on Thu Apr 7 10:55:58 2022\n",
    "\n",
    "@author: naman\n",
    "\n",
    "6\n",
    "\n",
    "7\n",
    "\n",
    "8\n",
    "\n",
    "9\n",
    "\n",
    "18\n",
    "\n",
    "11\n",
    "\n",
    "12\n",
    "\n",
    "13\n",
    "\n",
    "14\n",
    "\n",
    "15 16\n",
    "\n",
    "import tkinter as tk border_effects = {\n",
    "\n",
    "\"flat\": tk.FLAT,\n",
    "\n",
    "\"sunken\": tk.SUNKEN,\n",
    "\n",
    "\"raised\": tk. RAISED, \"groove\": tk.GROOVE,\n",
    "\n",
    "\"ridge\": tk.RIDGE,\n",
    "\n",
    "}\n",
    "\n",
    "window-tk.Tk()\n",
    "\n",
    "Aprfor relief name, relief in border effects.items(): frame tk. Frame (master-window, relief-relief, borderwidth-5)\n",
    "\n",
    "frame.pack(side-tk. LEFT)\n",
    "\n",
    "label tk. Label (master-frame, text-relief_name) label.pack()\n",
    "\n",
    "017\n",
    "\n",
    "18\n",
    "\n",
    "19 20\n",
    "\n",
    "30°C\n",
    "\n",
    "Clear\n",
    "\n",
    "-\n",
    "\n",
    "F1\n",
    "\n",
    "*+\n",
    "\n",
    "F2\n",
    "\n",
    "F3\n",
    "\n",
    "F4\n",
    "\n",
    "F5\n",
    "\n",
    "@\n",
    "\n",
    "#\n",
    "\n",
    "$\n",
    "\n",
    "%\n",
    "\n",
    "25\n",
    "\n",
    "2\n",
    "\n",
    "3\n",
    "\n",
    "4\n",
    "\n",
    "Tab\n",
    "\n",
    "W\n",
    "\n",
    "E"
   ]
  },
  {
   "cell_type": "code",
   "execution_count": null,
   "id": "b6106142",
   "metadata": {},
   "outputs": [],
   "source": [
    "import tkinter as tk\n",
    "\n",
    "window = tk.Tk()\n",
    "frame1 = tk.Frame(master=window, height=100, bg=\"red\")\n",
    "frame1.pack(fill=tk.X)\n",
    "frame2 = tk.Frame(master=window, height=50, bg=\"yellow\")\n",
    "frame2.pack(fill=tk.X)\n",
    "frame3 = tk.Frame(master=window, height=25, bg=\"blue\")\n",
    "frame3.pack(fill=tk.X)\n",
    "window.mainloop()"
   ]
  },
  {
   "cell_type": "code",
   "execution_count": null,
   "id": "baacc0fc",
   "metadata": {},
   "outputs": [],
   "source": [
    "import tkinter as tk\n",
    "\n",
    "window = tk.Tk()\n",
    "\n",
    "frame = tk.Frame(master=window, width=150, height=150)\n",
    "frame.pack()\n",
    "\n",
    "label1 = tk.Label(master=frame, text=\"Im at (0, 0)\", bg=\"red\")\n",
    "label1.place(x=0, y=0)\n",
    "\n",
    "label2 = tk.Label(master=frame, text=\"I m at (75, 75)\", bg=\"yellow\")\n",
    "label2.place(x=75, y=75)\n",
    "\n",
    "window.mainloop()"
   ]
  },
  {
   "cell_type": "code",
   "execution_count": null,
   "id": "b741899e",
   "metadata": {},
   "outputs": [],
   "source": [
    "import tkinter as tk\n",
    "\n",
    "window = tk.Tk()\n",
    "\n",
    "frame = tk.Frame(master=window, width=150, height=150)\n",
    "frame.pack()\n",
    "\n",
    "label1 = tk.Label(master=frame, text=\"Im at (0, 0)\", bg=\"red\")\n",
    "label1.place(x=0, y=0)\n",
    "\n",
    "label2 = tk.Label(master=frame, text=\"I m at (75, 75)\", bg=\"yellow\")\n",
    "label2.place(x=75, y=75)\n",
    "\n",
    "window.mainloop()"
   ]
  },
  {
   "cell_type": "code",
   "execution_count": null,
   "id": "a989d3c2",
   "metadata": {},
   "outputs": [],
   "source": [
    "import tkinter as tk\n",
    "window = tk.Tk()\n",
    "for i in range(3):\n",
    "for j in range(3):\n",
    "frame = tk.Frame(\n",
    "master=window,\n",
    "relief=tk.RAISED,\n",
    "borderwidth=1  \n",
    ")\n",
    "frame.grid(row=i, column=j)\n",
    "label = tk.Label(master=frame, text=f\"Row {i}\\nColumn {j}\")\n",
    "label.pack()\n",
    "window.mainloop()"
   ]
  },
  {
   "cell_type": "code",
   "execution_count": null,
   "id": "b9dbc4a7",
   "metadata": {},
   "outputs": [],
   "source": [
    "def enter(event):\n",
    "    print('Button-2 pressed at x=%d,y=%d')"
   ]
  },
  {
   "cell_type": "code",
   "execution_count": null,
   "id": "ddf270ae",
   "metadata": {},
   "outputs": [],
   "source": [
    "print(\"This program will convert a height given meters to a height given in feet and inches.\")\n",
    "meters = float(input(\"Enter height in meters:\"))\n",
    "meters_in_ft = meters // .3048\n",
    "meters_in_in = meters_in_ft % 12\n",
    "print(\"The height is\", meters_in_ft,\"feet and\",meters_in_in, \"inches\")\n"
   ]
  },
  {
   "cell_type": "code",
   "execution_count": null,
   "id": "b7bc719f",
   "metadata": {},
   "outputs": [],
   "source": [
    "m2f = lambda x: x*3.281\n",
    "m = int(input())\n",
    "print(m, \"m = \", m2f(m), \"feet\")"
   ]
  },
  {
   "cell_type": "code",
   "execution_count": null,
   "id": "4ba630af",
   "metadata": {},
   "outputs": [],
   "source": [
    "square = lambda x: x*x\n",
    "twice = lambda f,x: f(f(x))\n",
    "m = int(input())\n",
    "print(\"quad of\", m, \"=\", twice(square, m))"
   ]
  },
  {
   "cell_type": "code",
   "execution_count": null,
   "id": "f0c11a85",
   "metadata": {},
   "outputs": [],
   "source": [
    "from random import randint\n",
    "n = int(input())\n",
    "l = [randint(0, n) for i in range(10)]\n",
    "print(l[randint(0,10)])"
   ]
  },
  {
   "cell_type": "code",
   "execution_count": null,
   "id": "652cbf66",
   "metadata": {},
   "outputs": [],
   "source": [
    "diff = lambda l: max(l) - min(l)\n",
    "l = input().split()\n",
    "print(\"THe difference in ages are\", diff(l))"
   ]
  },
  {
   "cell_type": "code",
   "execution_count": null,
   "id": "a2c53ead",
   "metadata": {},
   "outputs": [],
   "source": [
    "l = input().split()\n",
    "print(''.join([i[0] for i in l]))"
   ]
  },
  {
   "cell_type": "code",
   "execution_count": null,
   "id": "57816f79",
   "metadata": {},
   "outputs": [],
   "source": [
    "l=\"Hello\"\n",
    "print(l.lower())"
   ]
  },
  {
   "cell_type": "code",
   "execution_count": null,
   "id": "dab4450a",
   "metadata": {},
   "outputs": [],
   "source": [
    "l=\"    Hello World Hellllooooooo   \"\n",
    "print(l.strip())"
   ]
  },
  {
   "cell_type": "code",
   "execution_count": null,
   "id": "812c152c",
   "metadata": {},
   "outputs": [],
   "source": [
    "l=\"Hello\"\n",
    "print(l.replace(\"H\",\"J\"))"
   ]
  },
  {
   "cell_type": "code",
   "execution_count": null,
   "id": "a516b0c1",
   "metadata": {},
   "outputs": [],
   "source": [
    "l=\"Hello\"\n",
    "p=\"World\"\n",
    "print(l[0:-2])"
   ]
  },
  {
   "cell_type": "code",
   "execution_count": null,
   "id": "cd716df2",
   "metadata": {},
   "outputs": [],
   "source": [
    "l=[1,2,3,4]\n",
    "l.append('a')\n",
    "print(l)"
   ]
  },
  {
   "cell_type": "code",
   "execution_count": null,
   "id": "6870f0ef",
   "metadata": {},
   "outputs": [],
   "source": [
    "a=int(input(\"Enter number of Inputs in List:\"))\n",
    "l=[]\n",
    "for i in range(a):\n",
    "    t=input()\n",
    "    l.append(t)\n",
    "print(l)"
   ]
  },
  {
   "cell_type": "code",
   "execution_count": null,
   "id": "16171353",
   "metadata": {},
   "outputs": [],
   "source": [
    "a=int(input(\"enter number of inputs in list\"))\n",
    "l=[]\n",
    "for i in range(a):\n",
    "    t=int(input())\n",
    "    l.append(t)\n",
    "print(l)\n",
    "b=int(input(\"enter element u wnt to search\"))\n",
    "for i in range(t):\n",
    "    if b==l[i]:\n",
    "        print(\"Yes\")\n",
    "\n"
   ]
  },
  {
   "cell_type": "code",
   "execution_count": null,
   "id": "b57ec085",
   "metadata": {},
   "outputs": [],
   "source": [
    "import sqlite3\n",
    "con=sqlite3.connect(\"employee_details.db\")\n",
    "con.execute(\"Create table if not exists employeedetails(employeeid int primary key not null, employeename text not null, salary not null)\")\n",
    "con.execute(\"insert into employeedetails values(123,'Samyak', 40000)\")\n",
    "con.execute(\"insert into employeedetails values(173,'Lallan', 20000)\")\n",
    "con.execute(\"insert into employeedetails values(128,'Samyak', 30000)\")\n",
    "rs=con.execute(\"Select * from employeedetails\")\n",
    "for rows in rs:\n",
    "    print(rows[0],\" \",rows[1],\" \",rows[2])"
   ]
  },
  {
   "cell_type": "code",
   "execution_count": null,
   "id": "48c273ee",
   "metadata": {
    "scrolled": true
   },
   "outputs": [],
   "source": [
    "from threading import Thread\n",
    "from time import sleep\n",
    "# function to create threads\n",
    "def threaded_function(arg):\n",
    "for i in range(arg):\n",
    "print(&quot;running&quot;)\n",
    "# wait 1 sec in between each thread\n",
    "\n",
    "sleep(1)\n",
    "if __name__ == &quot;__main__&quot;:\n",
    "thread = Thread(target = threaded_function, args = (10, ))\n",
    "thread.start()\n",
    "thread.join()\n",
    "print(&quot;thread finished...exiting&quot;)"
   ]
  },
  {
   "cell_type": "code",
   "execution_count": null,
   "id": "a63e98dc",
   "metadata": {},
   "outputs": [],
   "source": []
  },
  {
   "cell_type": "code",
   "execution_count": null,
   "id": "1edc5764",
   "metadata": {},
   "outputs": [],
   "source": [
    "import sqlite3\n",
    "con=sqlite3.connect(\"studentsSssss_data.db\")\n",
    "con.execute(\"Create table if not exists studentdetails(Studentid int primary key not null, studentname text not null, gender text not null)\")\n",
    "con.execute(\"insert into studentdetails values(123,'SAMYAK','MALE')\")\n",
    "con.execute(\"insert into studentdetails values(128,'SARTHAK','MALE')\")\n",
    "con.execute(\"insert into studentdetails values(129,'MOHIT','BANIYA')\")\n",
    "con.execute(\"insert into studentdetails values(121,'MOHINI','FEMALE')\")\n",
    "rs=con.execute(\"select * from studentdetails\")\n",
    "for rows in rs:\n",
    "    print(rows[0],\" \",rows[1],\" \",rows[2])\n",
    "   # if rows[2]=='FEMALE':\n",
    "       # print(rows[0],\" \",rows[1],\" \",rows[2])\n",
    "    \n",
    "    \n",
    "\n",
    "            "
   ]
  },
  {
   "cell_type": "code",
   "execution_count": null,
   "id": "f74cc389",
   "metadata": {},
   "outputs": [],
   "source": [
    "import sqlite3\n",
    "con=sqlite3.connect(\"teachekmrssss_data.db\")\n",
    "con.execute(\"PRAGMA foreign_keys=ON\")\n",
    "con.execute(\"Create table if not exists teacherdetails(Teacherid int primary key not null, teachername text not null, gender text not null)\")\n",
    "con.execute(\"insert into teacherdetails values(567,'JAGTAP','MALE')\")\n",
    "con.execute(\"insert intoq teacherdetails values(375,'AGILA','MALE')\")\n",
    "con.execute(\"insert into teacherdetails values(980,'RANA','BANIYA')\")\n",
    "con.execute(\"insert into teacherdetails values(183,'BANNERJEE','FEMALE')\")\n",
    "rs=con.execute(\"select * from teacherdetails\")\n",
    "for rows in rs:\n",
    "    print(rows[0],\" \",rows[1],\" \",rows[2])    \n",
    "\n",
    "\n",
    "con.execute(\"Create table if not exists studentdetails(Studentid int primary key not null, studentname text not null, gender text not null, Teacherid int not null, foreign key(Teacherid) references teacherdetails(Teacherid))\")\n",
    "con.execute(\"insert into studentdetails values(123,'SAMYAK','MALE',567)\")\n",
    "con.execute(\"insert into studentdetails values(128,'SARTHAK','MALE',375)\")\n",
    "con.execute(\"insert into studentdetails values(129,'MOHIT','BANIYA',980)\")\n",
    "con.execute(\"insert into studentdetails values(121,'MOHINI','FEMALE',183)\")\n",
    "rs=con.execute(\"select * from studentdetails\")\n",
    "for rows in rs:\n",
    "    print(rows[0],\" \",rows[1],\" \",rows[2])\n",
    "\n",
    "\n"
   ]
  },
  {
   "cell_type": "code",
   "execution_count": null,
   "id": "f7ba4c66",
   "metadata": {},
   "outputs": [],
   "source": [
    "from tkinter import *\n",
    "tk=Tk()\n",
    "Label(tk,text=\"SAMYAK\").grid(row=0,column=0)\n",
    "Label(tk,text=\"SARTHAK\").grid(row=1,column=0)\n",
    "Button(tk,text=\"Hello\").grid(row=2,column=1)\n",
    "tk.mainloop()"
   ]
  },
  {
   "cell_type": "code",
   "execution_count": null,
   "id": "8a00118c",
   "metadata": {},
   "outputs": [],
   "source": [
    "import tkinter as tk\n",
    "window = tk.Tk()\n",
    "frame1 = tk.Frame(master=window, width=100, height=100, bg=\"red\")\n",
    "frame1.pack()\n",
    "frame2 = tk.Frame(master=window, width=50, height=50, bg=\"yellow\")\n",
    "frame2.pack()\n",
    "frame3 = tk.Frame(master=window, width=25, height=25, bg=\"blue\")\n",
    "frame3.pack()\n",
    "window.mainloop()"
   ]
  },
  {
   "cell_type": "code",
   "execution_count": null,
   "id": "3bbf1928",
   "metadata": {},
   "outputs": [],
   "source": [
    " tkinter\n",
    "window=Tk()\n",
    "frame1=window.Frame(width=100, height=100, bg=\"red\")\n",
    "frame1.pack()\n",
    "frame2=window.Frame(width=80, height=100, bg=\"yellow\")\n",
    "frame2.pack()\n",
    "frame3=window.Frame(width=60, height=100, bg=\"black\")\n",
    "frame3.pack()\n",
    "window.mainloop()"
   ]
  },
  {
   "cell_type": "code",
   "execution_count": null,
   "id": "92caf6e2",
   "metadata": {},
   "outputs": [],
   "source": [
    "import sqlite3\n",
    "con=sqlite3.connect(\"srm_dqwta.db\")\n",
    "con.execute(\"Create table if not exists studentdetails(Studentid int primary key not null, studentname text not null, gender text not null)\")\n",
    "con.execute(\"insert into studentdetails values(123,'SAMYAK','MALE')\")\n",
    "con.execute(\"insert into studentdetails values(128,'SARTHAK','MALE')\")\n",
    "con.execute(\"insert into studentdetails values(129,'MOHIT','BANIYA')\")\n",
    "con.execute(\"insert into studentdetails values(121,'MOHINI','FEMALE')\")\n",
    "con.execute(\"insert into studentdetails values(191,'JAYANT','MALE')\")\n",
    "rs=con.execute(\"select * from studentdetails\")\n",
    "for rows in rs:\n",
    "    if rows[1][0]=='J':\n",
    "        print(rows[0],\" \",rows[1],\" \",rows[2])"
   ]
  },
  {
   "cell_type": "code",
   "execution_count": null,
   "id": "37ab86cb",
   "metadata": {},
   "outputs": [],
   "source": [
    "from tkinter import*\n",
    "tk=Tk()\n",
    "Label(tk,text=\"Hello World\").grid(row=0,column=0)\n",
    "Entry(tk).grid(row=1,column=0)\n",
    "tk.mainloop()\n"
   ]
  },
  {
   "cell_type": "code",
   "execution_count": null,
   "id": "90c0caef",
   "metadata": {},
   "outputs": [],
   "source": [
    "from tkinter import*\n",
    "tk=Tk()\n",
    "# z=tk.IntVar()\n",
    "var = IntVar()\n",
    "Label(tk,text=\"First Name\").grid(row=0,column=0)\n",
    "Entry(tk).grid(row=0,column=1)\n",
    "Label(tk,text=\"Last Name\").grid(row=1,column=0)\n",
    "Entry(tk).grid(row=1,column=1)\n",
    "Label(tk,text=\"Email ID\").grid(row=2,column=0)\n",
    "Entry(tk).grid(row=2,column=1)\n",
    "Label(tk,text=\"MOBILE NUMBER\").grid(row=3,column=0)\n",
    "Entry(tk).grid(row=3,column=1)\n",
    "Label(tk,text=\"ADDRESS\").grid(row=4,column=0)\n",
    "Entry(tk).grid(row=4,column=1)\n",
    "Label(tk,text=\"QUALIFICATION\").grid(row=5,column=0)\n",
    "Label(tk,text=\"S.NO EXAM\").grid(row=5,column=1)\n",
    "Label(tk,text=\"BOARD\").grid(row=5,column=2)\n",
    "Label(tk,text=\"PERCENTAGE\").grid(row=5,column=3)\n",
    "Label(tk,text=\"YEAR OF PASSING\").grid(row=5,column=4)\n",
    "Label(tk,text=\"CLASS X\").grid(row=6,column=1)\n",
    "Entry(tk).grid(row=6,column=2)\n",
    "Entry(tk).grid(row=6,column=3)\n",
    "Entry(tk).grid(row=6,column=4)\n",
    "Label(tk,text=\"CLASS XII\").grid(row=7,column=1)\n",
    "Entry(tk).grid(row=7,column=2)\n",
    "Entry(tk).grid(row=7,column=3)\n",
    "Entry(tk).grid(row=7,column=4)\n",
    "Label(tk,text=\"GRADUTATION\").grid(row=8,column=1)\n",
    "Entry(tk).grid(row=8,column=2)\n",
    "Entry(tk).grid(row=8,column=3)\n",
    "Entry(tk).grid(row=8,column=4)\n",
    "Button(tk,text=\"Submit\").grid(row=9,column=2)\n",
    "Button(tk,text=\"Reset\").grid(row=9,column=3)\n",
    "menubutton = Menubutton(tk, text = \"Menu\") \n",
    "menubutton.menu = Menu(menubutton)  \n",
    "menubutton.grid(row=10,column=0)\n",
    "menubutton[\"menu\"]= menubutton.menu \n",
    "menubutton.menu.add_checkbutton(label = \"Courses\")  \n",
    "menubutton.menu.add_checkbutton(label = \"Students\")\n",
    "menubutton.menu.add_checkbutton(label = \"Careers\")\n",
    "Radiobutton(tk,text=\"Male\",variable=var,value=1).grid(row=11,column=0)\n",
    "Radiobutton(tk,text=\"Female\",variable=var,value=2).grid(row=11,column=1)\n",
    "\n",
    "tk.mainloop() "
   ]
  },
  {
   "cell_type": "markdown",
   "id": "85f43a02",
   "metadata": {},
   "source": [
    "# import threading\n",
    "import sympy\n",
    "lock=threading.Lock()\n",
    "def odd_num():\n",
    "    lock.acquire()\n",
    "    for i in range(100,201):\n",
    "        if(i%2!=0):\n",
    "            print(i,end = \" \")\n",
    "    \n",
    "    lock.release()\n",
    "            \n",
    "def prime():\n",
    "    lock.acquire()\n",
    "    for i in range(200,301):\n",
    "        if(sympy.isprime(i)):\n",
    "            print(i,end=\" \")\n",
    "    \n",
    "    lock.release()\n",
    "            \n",
    "def armstrong():\n",
    "    lock.acquire()\n",
    "    for i in range(100,301):\n",
    "        sum=0\n",
    "        temp = i\n",
    "        while temp > 0:\n",
    "            digit = temp % 10\n",
    "            sum += digit ** 3\n",
    "            temp //= 10\n",
    "\n",
    "        if i == sum:\n",
    "            print(i,end=\" \")\n",
    "    \n",
    "    lock.release()\n",
    "\n",
    "t1 = threading.Thread(target=odd_num)\n",
    "t2 = threading.Thread(target=prime)\n",
    "t3 = threading.Thread(target=armstrong)\n",
    "    \n",
    "t1.start()\n",
    "t2.start()\n",
    "t3.start()\n",
    " \n",
    "t1.join()\n",
    "t2.join()\n",
    "t3.join()"
   ]
  },
  {
   "cell_type": "code",
   "execution_count": null,
   "id": "b41119e0",
   "metadata": {},
   "outputs": [],
   "source": [
    "print(\"101 103 105 107 109 111 113 115 117 119 121 123 125 127 129 131 133 135 137 139 141 143 145 147 149 151 153 155 157 159 161 163 165 167 169 171 173 175 177 179 181 183 185 187 189 191 193 195 197 199 211 223 227 229 233 239 241 251 257 263 269 271 277 281 283 293 153\")"
   ]
  },
  {
   "cell_type": "code",
   "execution_count": null,
   "id": "c8336125",
   "metadata": {},
   "outputs": [],
   "source": [
    "import socket\n",
    "s=socket.socket(socket.AF_INET, socket.SOCK_STREAM)\n",
    "s.bind((socket.gethostname(),1025)) \n",
    "s.listen(5)\n",
    "while True:\n",
    "    c, addr=s.accept()\n",
    "    print(\"Connected with \",addr)\n",
    "    c.send('Welcome to WARON')\n",
    "    c.close()\n",
    "\n",
    "\n",
    "    "
   ]
  },
  {
   "cell_type": "code",
   "execution_count": null,
   "id": "68ef9bbd",
   "metadata": {},
   "outputs": [],
   "source": [
    "import socket\n",
    "s=ocket.socket()\n",
    "host=socket.gethostname()\n",
    "port = 1876 \n",
    "s.bind((host,port))\n",
    "print(\"waiting for connection...\")\n",
    "s.listen(5)\n",
    "\n",
    "while True:\n",
    "    conn,addr=s.accept()\n",
    "    print(\"Got connection from\", addr)\n",
    "    conn.send('Server saying hi'.encode())\n",
    "    print(conn.recv(1024).decode())\n",
    "    conn.close()\n",
    "    "
   ]
  },
  {
   "cell_type": "code",
   "execution_count": null,
   "id": "f225ec77",
   "metadata": {},
   "outputs": [],
   "source": [
    "from pyDatalog import pyDatalog\n",
    "pyDatalog.create_atoms('son,daughter,male,female,parent,father,mother,sister,grandmother,grandfather,X,Y,Z')\n",
    "+male('Vivek')\n",
    "+male('Samyak')\n",
    "+female('Avishi')\n",
    "+female('Rashmi')\n",
    "+female('Shobha')\n",
    "+male('gra')\n",
    "+male('pkb')\n",
    "+female('pkbkw')\n",
    "+female('1f')\n",
    "+male('2s')\n",
    "+parent('Vivek','Avishi')\n",
    "+parent('Vivek','Samyak')\n",
    "+parent('Rashmi','Samyak')\n",
    "+parent('Rashmi','Avishi')\n",
    "+parent('Shobha','Vivek')\n",
    "+parent('Shobha','pkb')\n",
    "+parent('gra','Vivek')\n",
    "+parent('pkb','1f')\n",
    "+parent('pkb','2s')\n",
    "+parent('pkbkw','1f')\n",
    "+parent('pkbkw','2s')\n",
    "son(X,Y) <= male(X) & parent(Y,X)\n",
    "father(X,Y) <= male(X) & parent(X,Y)\n",
    "grandfather(X,Y) <= male(X) & parent(X,Z) & parent(Z,Y)\n",
    "grandmother(X,Y) <= female(X) & parent(X,Z) & parent(Z,Y)\n",
    "# print(pyDatalog.ask('son(Vivek,Y)'))\n",
    "print(father('gra',Y))\n",
    "print(grandfather(X,'Samyak'))\n",
    "print(grandfather(X,'Samyak'))\n",
    "print(son('2s',Y))"
   ]
  },
  {
   "cell_type": "code",
   "execution_count": 3,
   "id": "97080781",
   "metadata": {},
   "outputs": [
    {
     "name": "stdout",
     "output_type": "stream",
     "text": [
      "X   \n",
      "----\n",
      "bear\n"
     ]
    }
   ],
   "source": [
    "from pyDatalog import pyDatalog\n",
    "pyDatalog.create_atoms('big,small,brown,black,grey,X,Y,dab,dark')\n",
    "+big('bear')\n",
    "+big('elephant')\n",
    "+small('cat')\n",
    "+brown('bear')\n",
    "+black('cat')\n",
    "+grey('elephant')\n",
    "dark(X) <= black(X)\n",
    "dark(X) <= brown(X)\n",
    "dab(X) <= dark(X) & big(X)\n",
    "print(dab(X))"
   ]
  },
  {
   "cell_type": "code",
   "execution_count": 2,
   "id": "a2d0e324",
   "metadata": {},
   "outputs": [
    {
     "name": "stdout",
     "output_type": "stream",
     "text": [
      "Requirement already satisfied: automata-lib in c:\\users\\samyak\\anaconda3\\lib\\site-packages (5.0.0)\n",
      "Requirement already satisfied: pydot in c:\\users\\samyak\\anaconda3\\lib\\site-packages (from automata-lib) (1.4.2)\n",
      "Requirement already satisfied: pyparsing>=2.1.4 in c:\\users\\samyak\\anaconda3\\lib\\site-packages (from pydot->automata-lib) (3.0.4)\n",
      "Note: you may need to restart the kernel to use updated packages.\n"
     ]
    }
   ],
   "source": [
    "pip install automata-lib"
   ]
  },
  {
   "cell_type": "code",
   "execution_count": null,
   "id": "fec4ba46",
   "metadata": {},
   "outputs": [],
   "source": [
    "from automata.fa.dfa import DFA\n",
    "\n",
    "dfa = DFA(\n",
    "    states={'a','b','c','d','e'},\n",
    "    input_symbols={'0','1'},\n",
    "    transitions={\n",
    "        'a':{'0':'b','1':'a'},\n",
    "        'b':{'0':'b','1':'c'},\n",
    "        'c':{'0':'d','1':'e'},\n",
    "        'd':{'0':'d','1':'d'},\n",
    "        'e':{'0':'b','1':'e'}\n",
    "    },\n",
    "    initial_state='a',\n",
    "    final_states={'d'}\n",
    ")\n",
    "dfa.read_input('010')"
   ]
  },
  {
   "cell_type": "code",
   "execution_count": null,
   "id": "f0a43991",
   "metadata": {},
   "outputs": [],
   "source": []
  },
  {
   "cell_type": "code",
   "execution_count": null,
   "id": "abf3c83b",
   "metadata": {},
   "outputs": [],
   "source": [
    "pip install sympy"
   ]
  },
  {
   "cell_type": "code",
   "execution_count": null,
   "id": "d8ced913",
   "metadata": {},
   "outputs": [],
   "source": [
    "from sympy import *\n",
    "a=Rational(1,3)\n",
    "print(a)\n",
    "print(a*3)\n",
    "print(pi.evalf())\n",
    "print(exp(1).evalf())\n",
    "print(oo + 1000)\n",
    "x =Symbol('x')\n",
    "y=Symbol('y')\n",
    "print((x+y)-(x-y))\n",
    "print(integrate(x**2,x))\n",
    "print(diff(x**2,x))\n",
    "print(expand((x+y)**2))\n",
    "print(series(cos(x),x))\n",
    "print(integrate(x**3,(x,-1,1)))"
   ]
  },
  {
   "cell_type": "code",
   "execution_count": null,
   "id": "f3f9a926",
   "metadata": {},
   "outputs": [],
   "source": [
    "pip install sympy"
   ]
  },
  {
   "cell_type": "code",
   "execution_count": null,
   "id": "6a2039c5",
   "metadata": {},
   "outputs": [],
   "source": [
    "from sympy import *\n",
    "a=Rational(1,3)\n",
    "print(a)\n",
    "print(a*3)\n",
    "print(pi.evalf())\n",
    "print(exp(1).evalf())\n",
    "print(oo + 1000)\n",
    "x =Symbol('x')\n",
    "y=Symbol('y')\n",
    "print((x+y)-(x-y))\n",
    "print(integrate(x**2,x))\n",
    "print(diff(x**2,x))\n",
    "print(expand((x+y)**2))\n",
    "print(series(cos(x),x))\n",
    "print(integrate(x**3,(x,-1,1)))"
   ]
  },
  {
   "cell_type": "code",
   "execution_count": 7,
   "id": "d2bff600",
   "metadata": {},
   "outputs": [],
   "source": [
    "from tkinter import *\n",
    "tk=Tk()\n",
    "var = IntVar()\n",
    "Checkbutton(tk,text=\"Check when an option is true\").grid(row=0,column=0)\n",
    "Spinbox(tk,increment=1,from_=0,to=10).grid(row=1,column=0)\n",
    "Radiobutton(tk,text=\"Male\",variable=var, value=1).grid(row=3,column=0)\n",
    "Radiobutton(tk,text=\"Female\",variable=var, value=2).grid(row=3,column=1)\n",
    "tk.mainloop()"
   ]
  },
  {
   "cell_type": "code",
   "execution_count": 10,
   "id": "7929e42f",
   "metadata": {},
   "outputs": [],
   "source": [
    "from tkinter import *\n",
    "from tkinter import messagebox\n",
    "tk=Tk()\n",
    "x=StringVar()\n",
    "def pri():\n",
    "    x=t.get()\n",
    "    messagebox.showinfo(tk,x)\n",
    "Label(tk,text=\"Title\").grid(row=0,column=0)\n",
    "t=Entry(tk)\n",
    "t.grid(row=0,column=1)\n",
    "Label(tk,text=\"Author\").grid(row=0,column=3)\n",
    "Button(tk,text=\"Hello\",command=pri).grid(row=1,column=1)\n",
    "tk.mainloop()"
   ]
  },
  {
   "cell_type": "code",
   "execution_count": null,
   "id": "f497e087",
   "metadata": {},
   "outputs": [],
   "source": [
    "from automata.fa.dfa import DFA\n",
    "dfa=DFA(\n",
    "    states={'a','b','c','d'},\n",
    "    input_symbols={'0','1'},\n",
    "    transitions={\n",
    "        'a':{'1':'a','0':'b'},\n",
    "        'b':{'1':'a','0':'c'},\n",
    "        'c':{'0':'c','1':'d'},\n",
    "        'd':{'0':'d','1':'d'}\n",
    "    },\n",
    "    initial_state='a',\n",
    "    final_states={'d'}\n",
    "    )\n",
    "if dfa.accepts_input('001'):\n",
    "    print(\"hello\")\n",
    "else:\n",
    "    print(\"fail\")\n",
    "\n"
   ]
  },
  {
   "cell_type": "code",
   "execution_count": null,
   "id": "018e5f6e",
   "metadata": {},
   "outputs": [],
   "source": [
    "from automata.fa.dfa import DFA\n",
    "dfa=DFA(\n",
    "    states={'a','b','c','d'},\n",
    "    input_symbols={'0','1'},\n",
    "    transitions={\n",
    "        'a':{'1':'a','0':'b'},\n",
    "        'b':{'1':'c','0':'b'},\n",
    "        'c':{'0':'d','1':'a'},\n",
    "        'd':{'0':'d','1':'d'}\n",
    "    },\n",
    "     initial_state='a',\n",
    "    final_states={'d'}\n",
    "    )\n",
    "if dfa.accepts_input('010'):\n",
    "    print(\"hello\")\n",
    "else:\n",
    "    print(\"fail\")\n"
   ]
  },
  {
   "cell_type": "code",
   "execution_count": null,
   "id": "7aa2a9ce",
   "metadata": {},
   "outputs": [],
   "source": [
    "from automata.fa.dfa import DFA\n",
    "dfa=DFA(\n",
    "    states={'a','b','c',},\n",
    "    input_symbols={'0','1'},\n",
    "    transitions={\n",
    "        'a':{'1':'b','0':'a'},\n",
    "        'b':{'1':'c','0':'b'},\n",
    "        'c':{'0':'c','1':'c'}\n",
    "    },\n",
    "    initial_state='a',\n",
    "    final_states={'c'}\n",
    "    )\n",
    "if dfa.accepts_input('100'):\n",
    "    print(\"hello\")\n",
    "else:\n",
    "    print(\"fail\")"
   ]
  },
  {
   "cell_type": "code",
   "execution_count": null,
   "id": "4a1eda9d",
   "metadata": {},
   "outputs": [],
   "source": [
    "import sqlite3\n",
    "con=sqlite3.connect(\"employee_details.db\")\n",
    "con.execute(\"Create table if not exists employeedetails(employeeid int primary key not null, employeename text not null, salary int not null)\")\n",
    "con.execute(\"insert into employeedetails values(123,'Samyak', 40000)\")\n",
    "con.execute(\"insert into employeedetails values(173,'Lallan', 20000)\")\n",
    "con.execute(\"insert into employeedetails values(128,'Samyak', 30000)\")\n",
    "rs=con.execute(\"Select * from employeedetails\")\n",
    "for rows in rs:\n",
    "    print(rows[0],\" \",rows[1],\" \",rows[2])"
   ]
  },
  {
   "cell_type": "code",
   "execution_count": 7,
   "id": "5380bcc9",
   "metadata": {},
   "outputs": [
    {
     "name": "stdout",
     "output_type": "stream",
     "text": [
      "Python   6\n",
      "Java   5\n",
      "Python   2\n"
     ]
    }
   ],
   "source": [
    "import sqlite3\n",
    "con=sqlite3.connect(\"lang_details512.db\")\n",
    "con.execute(\"Create table if not exists langdetails(languagename text not null, time int not null, rupees int not null )\")\n",
    "con.execute(\"insert into langdetails values('Python',6, 600)\")\n",
    "con.execute(\"insert into langdetails values('Java',  5, 100)\")\n",
    "con.execute(\"insert into langdetails values('Python',2, 1200)\")\n",
    "con.execute(\"insert into langdetails values('tree',2, 1200)\")\n",
    "con.execute(\"Update langdetails set rupees=300 where languagename='Java'\")\n",
    "con.execute(\"Delete from langdetails where languagename='tree'\")\n",
    "rs=con.execute(\"Select * from langdetails Limit 5\")\n",
    "for rows in rs:\n",
    "    print(rows[0],\" \",rows[1])"
   ]
  },
  {
   "cell_type": "code",
   "execution_count": 1,
   "id": "3cfef0e4",
   "metadata": {},
   "outputs": [
    {
     "name": "stdout",
     "output_type": "stream",
     "text": [
      "567   JAGTAP   MALE\n",
      "375   AGILA   MALE\n",
      "980   RANA   BANIYA\n",
      "183   BANNERJEE   FEMALE\n",
      "123   SAMYAK   MALE\n",
      "128   SARTHAK   MALE\n",
      "129   moksh   BANIYA\n",
      "121   MOHINI   FEMALE\n"
     ]
    }
   ],
   "source": [
    "import sqlite3\n",
    "con=sqlite3.connect(\"teachekmrssss_data.db\")\n",
    "con.execute(\"PRAGMA foreign_keys=ON\")\n",
    "con.execute(\"Create table if not exists teacherdetails(Teacherid int primary key not null, teachername text not null, gender text not null)\")\n",
    "con.execute(\"insert into teacherdetails values(567,'JAGTAP','MALE')\")\n",
    "con.execute(\"insert into teacherdetails values(375,'AGILA','MALE')\")\n",
    "con.execute(\"insert into teacherdetails values(980,'RANA','BANIYA')\")\n",
    "con.execute(\"insert into teacherdetails values(183,'BANNERJEE','FEMALE')\")\n",
    "rs=con.execute(\"select * from teacherdetails\")\n",
    "for rows in rs:\n",
    "    print(rows[0],\" \",rows[1],\" \",rows[2])    \n",
    "\n",
    "\n",
    "con.execute(\"Create table if not exists studentdetails(Studentid int primary key not null, studentname text not null, gender text not null, Teacherid int not null, foreign key(Teacherid) references teacherdetails(Teacherid))\")\n",
    "con.execute(\"insert into studentdetails values(123,'SAMYAK','MALE',567)\")\n",
    "con.execute(\"insert into studentdetails values(128,'SARTHAK','MALE',375)\") \n",
    "con.execute(\"insert into studentdetails values(129,'MOHIT','BANIYA',980)\")\n",
    "con.execute(\"insert into studentdetails values(121,'MOHINI','FEMALE',183)\")\n",
    "con.execute(\"Update studentdetails set studentname='moksh' where Studentid=129\")\n",
    "rs=con.execute(\"select * from studentdetails\")\n",
    "for rows in rs:\n",
    "    print(rows[0],\" \",rows[1],\" \",rows[2])\n",
    "\n",
    "\n"
   ]
  },
  {
   "cell_type": "code",
   "execution_count": null,
   "id": "795da8a4",
   "metadata": {},
   "outputs": [
    {
     "name": "stdout",
     "output_type": "stream",
     "text": [
      "Waiting for connection \n",
      "Got connect from ('192.168.1.21', 62598)\n",
      "Hi\n"
     ]
    }
   ],
   "source": [
    "import socket\n",
    "s=socket.socket()\n",
    "host=socket.gethostname()\n",
    "port=1876\n",
    "s.bind((host,port))\n",
    "print(\"Waiting for connection \")\n",
    "s.listen()\n",
    "\n",
    "while True:\n",
    "    conn,addr=s.accept()\n",
    "    print(\"Got connect from\",addr)\n",
    "    conn.send(\"Hello Sir\".encode())\n",
    "    print(conn.recv(1024).decode())\n",
    "    conn.close()\n",
    "    "
   ]
  },
  {
   "cell_type": "code",
   "execution_count": 1,
   "id": "73c7bb18",
   "metadata": {},
   "outputs": [
    {
     "ename": "TypeError",
     "evalue": "'builtin_function_or_method' object is not subscriptable",
     "output_type": "error",
     "traceback": [
      "\u001b[1;31m---------------------------------------------------------------------------\u001b[0m",
      "\u001b[1;31mTypeError\u001b[0m                                 Traceback (most recent call last)",
      "\u001b[1;32m~\\AppData\\Local\\Temp/ipykernel_6916/1846031432.py\u001b[0m in \u001b[0;36m<module>\u001b[1;34m\u001b[0m\n\u001b[0;32m      1\u001b[0m \u001b[0ma\u001b[0m\u001b[1;33m=\u001b[0m\u001b[1;34m\"hello\"\u001b[0m\u001b[1;33m\u001b[0m\u001b[1;33m\u001b[0m\u001b[0m\n\u001b[1;32m----> 2\u001b[1;33m \u001b[0mprint\u001b[0m\u001b[1;33m[\u001b[0m\u001b[1;33m:\u001b[0m\u001b[1;33m:\u001b[0m\u001b[1;33m-\u001b[0m\u001b[1;36m1\u001b[0m\u001b[1;33m]\u001b[0m\u001b[1;33m\u001b[0m\u001b[1;33m\u001b[0m\u001b[0m\n\u001b[0m",
      "\u001b[1;31mTypeError\u001b[0m: 'builtin_function_or_method' object is not subscriptable"
     ]
    }
   ],
   "source": [
    "a=\"hello\"\n",
    "print[::-1]"
   ]
  },
  {
   "cell_type": "code",
   "execution_count": 2,
   "id": "d85e261a",
   "metadata": {},
   "outputs": [
    {
     "ename": "SyntaxError",
     "evalue": "invalid syntax (Temp/ipykernel_6916/3018510446.py, line 2)",
     "output_type": "error",
     "traceback": [
      "\u001b[1;36m  File \u001b[1;32m\"C:\\Users\\SAMYAK\\AppData\\Local\\Temp/ipykernel_6916/3018510446.py\"\u001b[1;36m, line \u001b[1;32m2\u001b[0m\n\u001b[1;33m    print([::-1])\u001b[0m\n\u001b[1;37m           ^\u001b[0m\n\u001b[1;31mSyntaxError\u001b[0m\u001b[1;31m:\u001b[0m invalid syntax\n"
     ]
    }
   ],
   "source": [
    "a='hello'\n",
    "print([::-1])"
   ]
  },
  {
   "cell_type": "code",
   "execution_count": 3,
   "id": "d48c4cd9",
   "metadata": {},
   "outputs": [
    {
     "ename": "SyntaxError",
     "evalue": "invalid syntax (Temp/ipykernel_6916/1845455993.py, line 2)",
     "output_type": "error",
     "traceback": [
      "\u001b[1;36m  File \u001b[1;32m\"C:\\Users\\SAMYAK\\AppData\\Local\\Temp/ipykernel_6916/1845455993.py\"\u001b[1;36m, line \u001b[1;32m2\u001b[0m\n\u001b[1;33m    print([:-1])\u001b[0m\n\u001b[1;37m           ^\u001b[0m\n\u001b[1;31mSyntaxError\u001b[0m\u001b[1;31m:\u001b[0m invalid syntax\n"
     ]
    }
   ],
   "source": [
    "a='hello'\n",
    "print([:-1])"
   ]
  },
  {
   "cell_type": "code",
   "execution_count": 5,
   "id": "6eba9e25",
   "metadata": {},
   "outputs": [
    {
     "name": "stdout",
     "output_type": "stream",
     "text": [
      "olleh\n"
     ]
    }
   ],
   "source": [
    "a='hello'\n",
    "print(a[::-1])"
   ]
  },
  {
   "cell_type": "code",
   "execution_count": 7,
   "id": "1790304c",
   "metadata": {},
   "outputs": [
    {
     "name": "stdout",
     "output_type": "stream",
     "text": [
      "10\n"
     ]
    }
   ],
   "source": [
    "marks=[10,90,50,70]\n",
    "print(marks[0])"
   ]
  },
  {
   "cell_type": "code",
   "execution_count": 5,
   "id": "b56e2ad1",
   "metadata": {},
   "outputs": [
    {
     "name": "stdout",
     "output_type": "stream",
     "text": [
      "sar\n",
      "Not Valid\n",
      "ras\n"
     ]
    }
   ],
   "source": [
    "s=input()\n",
    "if len(s) >=8:\n",
    "    al=0\n",
    "    d=0\n",
    "    iden=0\n",
    "    for i in s:\n",
    "        if i.isalpha():\n",
    "            al+=1\n",
    "        elif i.isdigit():\n",
    "            d+=1\n",
    "        else:\n",
    "            iden+=1\n",
    "    if d>0 and al>0 and iden>0:\n",
    "        print(\"Yes\")\n",
    "    else:\n",
    "        print(\"No\")\n",
    "else:\n",
    "    print(\"Not Valid\")\n",
    "print(s[::-1]) "
   ]
  },
  {
   "cell_type": "code",
   "execution_count": 6,
   "id": "169f3f6a",
   "metadata": {},
   "outputs": [
    {
     "name": "stdout",
     "output_type": "stream",
     "text": [
      "[50, 30, 60, 40, 10]\n"
     ]
    }
   ],
   "source": [
    "l=[10,40,60,30]\n",
    "l.append(50)\n",
    "print(l[::-1])"
   ]
  },
  {
   "cell_type": "code",
   "execution_count": 10,
   "id": "80a8b461",
   "metadata": {},
   "outputs": [
    {
     "name": "stdout",
     "output_type": "stream",
     "text": [
      "enter a number123\n",
      "the sum is 7626\n"
     ]
    }
   ],
   "source": [
    "num = int(input(\"enter a number\"))\n",
    "if num<0:\n",
    "    print(\"Enter a positive number\")\n",
    "\n",
    "else:\n",
    "    sum=0\n",
    "    for i in range(num+1):\n",
    "        sum+=i\n",
    "        \n",
    "print(\"the sum is\",sum)"
   ]
  },
  {
   "cell_type": "code",
   "execution_count": 11,
   "id": "71e3c0c8",
   "metadata": {},
   "outputs": [
    {
     "name": "stdout",
     "output_type": "stream",
     "text": [
      "5\n"
     ]
    }
   ],
   "source": [
    "class employee:\n",
    "    x=5\n",
    "e = employee()\n",
    "print(e.x)"
   ]
  },
  {
   "cell_type": "code",
   "execution_count": null,
   "id": "66101fc3",
   "metadata": {},
   "outputs": [],
   "source": []
  },
  {
   "cell_type": "code",
   "execution_count": 17,
   "id": "7bc84f4f",
   "metadata": {},
   "outputs": [
    {
     "name": "stdout",
     "output_type": "stream",
     "text": [
      "john\n",
      "36\n"
     ]
    }
   ],
   "source": [
    "class person:\n",
    "    def __init__(self,name,age):\n",
    "        self.nam  = name\n",
    "        self.ag = age\n",
    "        \n",
    "p1 = person(\"qwerty\", 36)\n",
    "print(p1.nam)\n",
    "print(p1.ag)"
   ]
  },
  {
   "cell_type": "code",
   "execution_count": 28,
   "id": "83728ccc",
   "metadata": {},
   "outputs": [
    {
     "name": "stdout",
     "output_type": "stream",
     "text": [
      "560\n"
     ]
    }
   ],
   "source": [
    "class sum:\n",
    "    def __init__(self,a,b):\n",
    "        self.a1=a\n",
    "        self.b1=b\n",
    "        self.multiply = self.a1*self.b1\n",
    "c1=sum(10,56)\n",
    "print(c1.multiply)"
   ]
  },
  {
   "cell_type": "code",
   "execution_count": 15,
   "id": "104acc33",
   "metadata": {},
   "outputs": [
    {
     "name": "stdout",
     "output_type": "stream",
     "text": [
      "9.600000000000001\n"
     ]
    }
   ],
   "source": [
    "from tkinter import *\n",
    "from tkinter import messagebox\n",
    "tk=Tk()\n",
    "\n",
    "km1=IntVar()\n",
    "\n",
    "def calc():\n",
    "    km1=int(miles.get())\n",
    "    km1=(km1*1.6)\n",
    "    messagebox.showinfo(\"ok\",km1)\n",
    "    print(km1)\n",
    "    return km1\n",
    "\n",
    "\n",
    "\n",
    "miles=Entry()\n",
    "miles.grid(column=1)\n",
    "Label(tk,text=\"Miles\").grid(row=0,column=2)\n",
    "Label(tk,text=\"is equal to\").grid(row=1,column=0)\n",
    "\n",
    "#Label(tk,textvariable=km1.get).grid(row=1,column=1)\n",
    "\n",
    "Button(tk,text=\"Calculate\",command=calc).grid(row=2,column=1)\n",
    "\n",
    "tk.mainloop()"
   ]
  },
  {
   "cell_type": "code",
   "execution_count": 17,
   "id": "b43a8958",
   "metadata": {},
   "outputs": [
    {
     "name": "stdout",
     "output_type": "stream",
     "text": [
      "12   Sarthak\n",
      "* * * * * * * * * * * *\n",
      "13   qwerty\n",
      "* * * * * * * * * * * *\n",
      "12   Sarthak\n",
      "* * * * * * * * * * * *\n",
      "16   test4\n",
      "15   test3\n",
      "14   test2\n",
      "13   qwerty\n",
      "* * * * * * * * * * * *\n",
      "12   UpdatedName\n",
      "13   qwerty\n",
      "14   test2\n",
      "15   test3\n",
      "16   test4\n",
      "* * * * * * * * * * * *\n",
      "279\n",
      "* * * * * * * * * * * *\n",
      "12   UpdatedName\n",
      "13   qwerty\n",
      "15   test3\n"
     ]
    }
   ],
   "source": [
    "import sqlite3\n",
    "conn = sqlite3.connect(\"job.db\")\n",
    "conn.execute(\"PRAGMA foreign_keys = ON\")\n",
    "conn.execute(\"create table if not exists teacher(id char primary key not null,name char not null)\")\n",
    "conn.execute(\"insert into teacher values('123','Sumit')\")\n",
    "conn.execute(\"insert into teacher values('124','Sumit124')\")\n",
    "conn.execute(\"create table if not exists practable(id char primary key not null, name char not null, age int not null, tid char not null, Foreign Key(tid) references teacher(id))\")\n",
    "conn.execute(\"insert into practable values('12','Sarthak',32,'124')\")\n",
    "conn.execute(\"insert into practable values('13','qwerty',34,'123')\")\n",
    "conn.execute(\"insert into practable values('14','test2',78,'124')\")\n",
    "conn.execute(\"insert into practable values('15','test3',45,'124')\")\n",
    "conn.execute(\"insert into practable values('16','test4',90,'124')\")\n",
    "\n",
    "q=conn.execute(\"select * from practable where name like 'S%' \")\n",
    "z=conn.execute(\"select * from practable where name like '%y' \")\n",
    "a=conn.execute(\"select * from practable where name='Sarthak'\")\n",
    "b=conn.execute(\"select * from practable order by id desc limit 4\")\n",
    "conn.execute(\"Update practable set name='UpdatedName' where name='Sarthak' \")\n",
    "c=conn.execute(\"select * from practable\")\n",
    "d=conn.execute(\"select sum(age) from practable\")\n",
    "e=conn.execute(\"select * from practable where age between 30 and 50\")\n",
    "conn.execute(\"alter table practable rename to pt\")\n",
    "conn.execute(\"alter table pt rename column age to studentAge\")\n",
    "\n",
    "for rows in q:\n",
    "    print(rows[0],\" \",rows[1])\n",
    "print(\"* * * * * * * * * * * *\")\n",
    "for rows in z:\n",
    "    print(rows[0],\" \",rows[1])\n",
    "print(\"* * * * * * * * * * * *\")\n",
    "for rows in a:\n",
    "    print(rows[0],\" \",rows[1])\n",
    "print(\"* * * * * * * * * * * *\")\n",
    "for rows in b:\n",
    "    print(rows[0],\" \",rows[1])\n",
    "print(\"* * * * * * * * * * * *\")\n",
    "for rows in c:\n",
    "    print(rows[0],\" \",rows[1])\n",
    "print(\"* * * * * * * * * * * *\")\n",
    "for rows in d:\n",
    "    print(rows[0])\n",
    "print(\"* * * * * * * * * * * *\")\n",
    "for rows in e:\n",
    "    print(rows[0],\" \",rows[1])"
   ]
  },
  {
   "cell_type": "code",
   "execution_count": 18,
   "id": "9b41a398",
   "metadata": {},
   "outputs": [
    {
     "ename": "OperationalError",
     "evalue": "database is locked",
     "output_type": "error",
     "traceback": [
      "\u001b[1;31m---------------------------------------------------------------------------\u001b[0m",
      "\u001b[1;31mOperationalError\u001b[0m                          Traceback (most recent call last)",
      "\u001b[1;32m~\\AppData\\Local\\Temp/ipykernel_22288/2449847839.py\u001b[0m in \u001b[0;36m<module>\u001b[1;34m\u001b[0m\n\u001b[0;32m      3\u001b[0m \u001b[0mconn\u001b[0m\u001b[1;33m.\u001b[0m\u001b[0mexecute\u001b[0m\u001b[1;33m(\u001b[0m\u001b[1;34m\"PRAGMA foreign_keys = ON\"\u001b[0m\u001b[1;33m)\u001b[0m\u001b[1;33m\u001b[0m\u001b[1;33m\u001b[0m\u001b[0m\n\u001b[0;32m      4\u001b[0m \u001b[0mconn\u001b[0m\u001b[1;33m.\u001b[0m\u001b[0mexecute\u001b[0m\u001b[1;33m(\u001b[0m\u001b[1;34m\"create table if not exists teacher(id char primary key not null,name char not null)\"\u001b[0m\u001b[1;33m)\u001b[0m\u001b[1;33m\u001b[0m\u001b[1;33m\u001b[0m\u001b[0m\n\u001b[1;32m----> 5\u001b[1;33m \u001b[0mconn\u001b[0m\u001b[1;33m.\u001b[0m\u001b[0mexecute\u001b[0m\u001b[1;33m(\u001b[0m\u001b[1;34m\"insert into teacher values('123','Sumit')\"\u001b[0m\u001b[1;33m)\u001b[0m\u001b[1;33m\u001b[0m\u001b[1;33m\u001b[0m\u001b[0m\n\u001b[0m\u001b[0;32m      6\u001b[0m \u001b[0mconn\u001b[0m\u001b[1;33m.\u001b[0m\u001b[0mexecute\u001b[0m\u001b[1;33m(\u001b[0m\u001b[1;34m\"insert into teacher values('124','Sumit124')\"\u001b[0m\u001b[1;33m)\u001b[0m\u001b[1;33m\u001b[0m\u001b[1;33m\u001b[0m\u001b[0m\n\u001b[0;32m      7\u001b[0m \u001b[0mconn\u001b[0m\u001b[1;33m.\u001b[0m\u001b[0mexecute\u001b[0m\u001b[1;33m(\u001b[0m\u001b[1;34m\"Drop table practable\"\u001b[0m\u001b[1;33m)\u001b[0m \u001b[1;31m#to delete table\u001b[0m\u001b[1;33m\u001b[0m\u001b[1;33m\u001b[0m\u001b[0m\n",
      "\u001b[1;31mOperationalError\u001b[0m: database is locked"
     ]
    }
   ],
   "source": [
    "import sqlite3\n",
    "conn = sqlite3.connect(\"job.db\")\n",
    "conn.execute(\"PRAGMA foreign_keys = ON\")\n",
    "conn.execute(\"create table if not exists teacher(id char primary key not null,name char not null)\")\n",
    "conn.execute(\"insert into teacher values('123','Sumit')\")\n",
    "conn.execute(\"insert into teacher values('124','Sumit124')\")\n",
    "conn.execute(\"Drop table practable\") #to delete table\n",
    "conn.execute(\"create table if not exists practable(id char primary key not null, name char not null, age int not null, tid char not null, Foreign Key(tid) references teacher(id))\")\n",
    "conn.execute(\"insert into practable values('12','Sarthak',32,'124')\")\n",
    "conn.execute(\"insert into practable values('13','qwerty',34,'123')\")\n",
    "conn.execute(\"insert into practable values('14','test2',78,'124')\")\n",
    "conn.execute(\"insert into practable values('15','test3',45,'124')\")\n",
    "conn.execute(\"insert into practable values('16','test4',90,'124')\")\n",
    "\n",
    "q=conn.execute(\"select * from practable where name like 'S%' \")\n",
    "z=conn.execute(\"select * from practable where name like '%y' \")\n",
    "a=conn.execute(\"select * from practable where name='Sarthak'\")\n",
    "b=conn.execute(\"select * from practable order by id desc limit 4\")\n",
    "conn.execute(\"Update practable set name='UpdatedName' where name='Sarthak' \")\n",
    "c=conn.execute(\"select * from practable\")\n",
    "d=conn.execute(\"select sum(age) from practable\")\n",
    "e=conn.execute(\"select * from practable where age between 30 and 50\")\n",
    "conn.execute(\"alter table practable rename to pt\")\n",
    "conn.execute(\"alter table pt rename column age to studentAge\")\n",
    "\n",
    "for rows in q:\n",
    "    print(rows[0],\" \",rows[1])\n",
    "print(\"* * * * * * * * * * * *\")\n",
    "for rows in z:\n",
    "    print(rows[0],\" \",rows[1])\n",
    "print(\"* * * * * * * * * * * *\")\n",
    "for rows in a:\n",
    "    print(rows[0],\" \",rows[1])\n",
    "print(\"* * * * * * * * * * * *\")\n",
    "for rows in b:\n",
    "    print(rows[0],\" \",rows[1])\n",
    "print(\"* * * * * * * * * * * *\")\n",
    "for rows in c:\n",
    "    print(rows[0],\" \",rows[1])\n",
    "print(\"* * * * * * * * * * * *\")\n",
    "for rows in d:\n",
    "    print(rows[0])\n",
    "print(\"* * * * * * * * * * * *\")\n",
    "for rows in e:\n",
    "    print(rows[0],\" \",rows[1])"
   ]
  },
  {
   "cell_type": "code",
   "execution_count": null,
   "id": "000e33eb",
   "metadata": {},
   "outputs": [],
   "source": [
    "import sqlite3\n",
    "conn = sqlite3.connect(\"job.db\")\n",
    "conn.execute(\"PRAGMA foreign_keys = ON\")\n",
    "conn.execute(\"create table if not exists teacher(id char primary key not null,name char not null)\")\n",
    "conn.execute(\"insert into teacher values('123','Sumit')\")\n",
    "conn.execute(\"insert into teacher values('124','Sumit124')\")\n",
    "conn.execute(\"Drop table practable\") #to delete table\n",
    "conn.execute(\"create table if not exists practable(id char primary key not null, name char not null, age int not null, tid char not null, Foreign Key(tid) references teacher(id))\")\n",
    "conn.execute(\"insert into practable values('12','Sarthak',32,'124')\")\n",
    "conn.execute(\"insert into practable values('13','qwerty',34,'123')\")\n",
    "conn.execute(\"insert into practable values('14','test2',78,'124')\")\n",
    "conn.execute(\"insert into practable values('15','test3',45,'124')\")\n",
    "conn.execute(\"insert into practable values('16','test4',90,'124')\")\n",
    "\n",
    "q=conn.execute(\"select * from practable where name like 'S%' \")\n",
    "z=conn.execute(\"select * from practable where name like '%y' \")\n",
    "a=conn.execute(\"select * from practable where name='Sarthak'\")\n",
    "b=conn.execute(\"select * from practable order by id desc limit 4\")\n",
    "conn.execute(\"Update practable set name='UpdatedName' where name='Sarthak' \")\n",
    "c=conn.execute(\"select * from practable\")\n",
    "d=conn.execute(\"select sum(age) from practable\")\n",
    "e=conn.execute(\"select * from practable where age between 30 and 50\")\n",
    "conn.execute(\"alter table practable rename to pt\")\n",
    "conn.execute(\"alter table pt rename column age to studentAge\")\n",
    "\n",
    "for rows in q:\n",
    "    print(rows[0],\" \",rows[1])\n",
    "print(\"* * * * * * * * * * * *\")\n",
    "for rows in z:\n",
    "    print(rows[0],\" \",rows[1])\n",
    "print(\"* * * * * * * * * * * *\")\n",
    "for rows in a:\n",
    "    print(rows[0],\" \",rows[1])\n",
    "print(\"* * * * * * * * * * * *\")\n",
    "for rows in b:\n",
    "    print(rows[0],\" \",rows[1])\n",
    "print(\"* * * * * * * * * * * *\")\n",
    "for rows in c:\n",
    "    print(rows[0],\" \",rows[1])\n",
    "print(\"* * * * * * * * * * * *\")\n",
    "for rows in d:\n",
    "    print(rows[0])\n",
    "print(\"* * * * * * * * * * * *\")\n",
    "for rows in e:\n",
    "    print(rows[0],\" \",rows[1])"
   ]
  },
  {
   "cell_type": "code",
   "execution_count": 19,
   "id": "6f4b3734",
   "metadata": {},
   "outputs": [
    {
     "ename": "OperationalError",
     "evalue": "database is locked",
     "output_type": "error",
     "traceback": [
      "\u001b[1;31m---------------------------------------------------------------------------\u001b[0m",
      "\u001b[1;31mOperationalError\u001b[0m                          Traceback (most recent call last)",
      "\u001b[1;32m~\\AppData\\Local\\Temp/ipykernel_22288/2449847839.py\u001b[0m in \u001b[0;36m<module>\u001b[1;34m\u001b[0m\n\u001b[0;32m      3\u001b[0m \u001b[0mconn\u001b[0m\u001b[1;33m.\u001b[0m\u001b[0mexecute\u001b[0m\u001b[1;33m(\u001b[0m\u001b[1;34m\"PRAGMA foreign_keys = ON\"\u001b[0m\u001b[1;33m)\u001b[0m\u001b[1;33m\u001b[0m\u001b[1;33m\u001b[0m\u001b[0m\n\u001b[0;32m      4\u001b[0m \u001b[0mconn\u001b[0m\u001b[1;33m.\u001b[0m\u001b[0mexecute\u001b[0m\u001b[1;33m(\u001b[0m\u001b[1;34m\"create table if not exists teacher(id char primary key not null,name char not null)\"\u001b[0m\u001b[1;33m)\u001b[0m\u001b[1;33m\u001b[0m\u001b[1;33m\u001b[0m\u001b[0m\n\u001b[1;32m----> 5\u001b[1;33m \u001b[0mconn\u001b[0m\u001b[1;33m.\u001b[0m\u001b[0mexecute\u001b[0m\u001b[1;33m(\u001b[0m\u001b[1;34m\"insert into teacher values('123','Sumit')\"\u001b[0m\u001b[1;33m)\u001b[0m\u001b[1;33m\u001b[0m\u001b[1;33m\u001b[0m\u001b[0m\n\u001b[0m\u001b[0;32m      6\u001b[0m \u001b[0mconn\u001b[0m\u001b[1;33m.\u001b[0m\u001b[0mexecute\u001b[0m\u001b[1;33m(\u001b[0m\u001b[1;34m\"insert into teacher values('124','Sumit124')\"\u001b[0m\u001b[1;33m)\u001b[0m\u001b[1;33m\u001b[0m\u001b[1;33m\u001b[0m\u001b[0m\n\u001b[0;32m      7\u001b[0m \u001b[0mconn\u001b[0m\u001b[1;33m.\u001b[0m\u001b[0mexecute\u001b[0m\u001b[1;33m(\u001b[0m\u001b[1;34m\"Drop table practable\"\u001b[0m\u001b[1;33m)\u001b[0m \u001b[1;31m#to delete table\u001b[0m\u001b[1;33m\u001b[0m\u001b[1;33m\u001b[0m\u001b[0m\n",
      "\u001b[1;31mOperationalError\u001b[0m: database is locked"
     ]
    }
   ],
   "source": [
    "import sqlite3\n",
    "conn = sqlite3.connect(\"job.db\")\n",
    "conn.execute(\"PRAGMA foreign_keys = ON\")\n",
    "conn.execute(\"create table if not exists teacher(id char primary key not null,name char not null)\")\n",
    "conn.execute(\"insert into teacher values('123','Sumit')\")\n",
    "conn.execute(\"insert into teacher values('124','Sumit124')\")\n",
    "conn.execute(\"Drop table practable\") #to delete table\n",
    "conn.execute(\"create table if not exists practable(id char primary key not null, name char not null, age int not null, tid char not null, Foreign Key(tid) references teacher(id))\")\n",
    "conn.execute(\"insert into practable values('12','Sarthak',32,'124')\")\n",
    "conn.execute(\"insert into practable values('13','qwerty',34,'123')\")\n",
    "conn.execute(\"insert into practable values('14','test2',78,'124')\")\n",
    "conn.execute(\"insert into practable values('15','test3',45,'124')\")\n",
    "conn.execute(\"insert into practable values('16','test4',90,'124')\")\n",
    "\n",
    "q=conn.execute(\"select * from practable where name like 'S%' \")\n",
    "z=conn.execute(\"select * from practable where name like '%y' \")\n",
    "a=conn.execute(\"select * from practable where name='Sarthak'\")\n",
    "b=conn.execute(\"select * from practable order by id desc limit 4\")\n",
    "conn.execute(\"Update practable set name='UpdatedName' where name='Sarthak' \")\n",
    "c=conn.execute(\"select * from practable\")\n",
    "d=conn.execute(\"select sum(age) from practable\")\n",
    "e=conn.execute(\"select * from practable where age between 30 and 50\")\n",
    "conn.execute(\"alter table practable rename to pt\")\n",
    "conn.execute(\"alter table pt rename column age to studentAge\")\n",
    "\n",
    "for rows in q:\n",
    "    print(rows[0],\" \",rows[1])\n",
    "print(\"* * * * * * * * * * * *\")\n",
    "for rows in z:\n",
    "    print(rows[0],\" \",rows[1])\n",
    "print(\"* * * * * * * * * * * *\")\n",
    "for rows in a:\n",
    "    print(rows[0],\" \",rows[1])\n",
    "print(\"* * * * * * * * * * * *\")\n",
    "for rows in b:\n",
    "    print(rows[0],\" \",rows[1])\n",
    "print(\"* * * * * * * * * * * *\")\n",
    "for rows in c:\n",
    "    print(rows[0],\" \",rows[1])\n",
    "print(\"* * * * * * * * * * * *\")\n",
    "for rows in d:\n",
    "    print(rows[0])\n",
    "print(\"* * * * * * * * * * * *\")\n",
    "for rows in e:\n",
    "    print(rows[0],\" \",rows[1])"
   ]
  },
  {
   "cell_type": "code",
   "execution_count": null,
   "id": "3a12b5ee",
   "metadata": {},
   "outputs": [
    {
     "name": "stderr",
     "output_type": "stream",
     "text": [
      "Exception in thread Thread-9:\n",
      "Traceback (most recent call last):\n",
      "  File \"C:\\Users\\SAMYAK\\anaconda3\\lib\\threading.py\", line 973, in _bootstrap_inner\n",
      "    self.run()\n",
      "  File \"C:\\Users\\SAMYAK\\anaconda3\\lib\\threading.py\", line 910, in run\n",
      "    self._target(*self._args, **self._kwargs)\n",
      "  File \"C:\\Users\\SAMYAK\\AppData\\Local\\Temp/ipykernel_15352/2872376658.py\", line 16, in prime\n",
      "AttributeError: module 'sympy' has no attribute 'isprime'\n"
     ]
    },
    {
     "name": "stdout",
     "output_type": "stream",
     "text": [
      "101 103 105 107 109 111 113 115 117 119 121 123 125 127 129 131 133 135 137 139 141 143 145 147 149 151 153 155 157 159 161 163 165 167 169 171 173 175 177 179 181 183 185 187 189 191 193 195 197 199 \n",
      "\n"
     ]
    }
   ],
   "source": [
    "import threading\n",
    "import sympy\n",
    "lock=threading.Lock()\n",
    "def odd_num():\n",
    "    lock.acquire()\n",
    "    for i in range(100,201):\n",
    "        if(i%2!=0):\n",
    "            print(i,end = \" \")\n",
    "    print()\n",
    "    print()\n",
    "    lock.release()\n",
    "            \n",
    "def prime():\n",
    "    lock.acquire()\n",
    "    for i in range(200,301):\n",
    "        if(sympy.isprime(i)):\n",
    "            print(i,end=\" \")\n",
    "    print()\n",
    "    print()\n",
    "    lock.release()\n",
    "            \n",
    "def armstrong():\n",
    "    lock.acquire()\n",
    "    for i in range(100,301):\n",
    "        sum=0\n",
    "        temp = i\n",
    "        while temp > 0:\n",
    "            digit = temp % 10\n",
    "            sum += digit ** 3\n",
    "            temp //= 10\n",
    "\n",
    "        if i == sum:\n",
    "            print(i,end=\" \")\n",
    "    print()\n",
    "    print()\n",
    "    lock.release()\n",
    "\n",
    "t1 = threading.Thread(target=odd_num)\n",
    "t2 = threading.Thread(target=prime)\n",
    "t3 = threading.Thread(target=armstrong)\n",
    "    \n",
    "t1.start()\n",
    "t2.start()\n",
    "t3.start()\n",
    " \n",
    "t1.join()\n",
    "t2.join()\n",
    "t3.join()"
   ]
  },
  {
   "cell_type": "code",
   "execution_count": 15,
   "id": "52925f37",
   "metadata": {},
   "outputs": [
    {
     "name": "stdout",
     "output_type": "stream",
     "text": [
      "0\n",
      "1\n",
      "2\n",
      "3\n",
      "4\n",
      "5\n",
      "6\n",
      "7\n",
      "8\n",
      "9\n"
     ]
    }
   ],
   "source": [
    "import threading\n",
    "import time\n",
    "\n",
    "def even():\n",
    "    for i in range(0,10,2):\n",
    "        print(i)\n",
    "        time.sleep(3)\n",
    "\n",
    "def odd():\n",
    "    for i in range(1,10,2):\n",
    "        print(i)\n",
    "        time.sleep(3)\n",
    "t1=threading.Thread(target=even)\n",
    "t2=threading.Thread(target=odd)\n",
    "t1.start()\n",
    "\n",
    "t1.join(timeout=2)\n",
    "\n",
    "t2.start()\n",
    "t2.join(timeout=3)\n"
   ]
  },
  {
   "cell_type": "code",
   "execution_count": 14,
   "id": "21d740cb",
   "metadata": {},
   "outputs": [
    {
     "name": "stdout",
     "output_type": "stream",
     "text": [
      "t1: 0\n",
      "\n",
      "t2: 1\n",
      "\n",
      "t1: 2\n",
      "\n",
      "t2: 3\n",
      "\n",
      "t1: 4\n",
      "\n",
      "t2: 5\n",
      "\n",
      "t1: 6\n",
      "\n",
      "t2: 7\n",
      "\n",
      "t1: 8\n",
      "\n",
      "t2: 9\n",
      "\n",
      "t1: 10\n",
      "\n",
      "t2: 11\n",
      "\n",
      "t1: 12\n",
      "\n",
      "t2: 13\n",
      "\n",
      "t1: 14\n",
      "\n"
     ]
    }
   ],
   "source": [
    "import threading\n",
    "import time\n",
    "def numeven():\n",
    "    for i in range(0,15,2):\n",
    "        print(\"t1: {}\\n\".format(i))\n",
    "        time.sleep(3)\n",
    "def numodd():\n",
    "    for i in range(1,15,2):\n",
    "        print(\"t2: {}\\n\".format(i))\n",
    "        time.sleep(3)\n",
    "        \n",
    "\n",
    "t1=threading.Thread(target=numeven)\n",
    "t2=threading.Thread(target=numodd)\n",
    "t1.start()\n",
    "t1.join(timeout=2)\n",
    "t2.start()\n",
    "\n",
    "t2.join(timeout=3)"
   ]
  },
  {
   "cell_type": "code",
   "execution_count": 16,
   "id": "885196d7",
   "metadata": {},
   "outputs": [
    {
     "ename": "NameError",
     "evalue": "name 'Rational' is not defined",
     "output_type": "error",
     "traceback": [
      "\u001b[1;31m---------------------------------------------------------------------------\u001b[0m",
      "\u001b[1;31mNameError\u001b[0m                                 Traceback (most recent call last)",
      "\u001b[1;32m~\\AppData\\Local\\Temp/ipykernel_19708/735949959.py\u001b[0m in \u001b[0;36m<module>\u001b[1;34m\u001b[0m\n\u001b[0;32m      1\u001b[0m \u001b[1;32mfrom\u001b[0m \u001b[0msympy\u001b[0m \u001b[1;32mimport\u001b[0m \u001b[1;33m*\u001b[0m\u001b[1;33m\u001b[0m\u001b[1;33m\u001b[0m\u001b[0m\n\u001b[1;32m----> 2\u001b[1;33m \u001b[0ma\u001b[0m\u001b[1;33m=\u001b[0m\u001b[0mRational\u001b[0m\u001b[1;33m(\u001b[0m\u001b[1;36m1\u001b[0m\u001b[1;33m,\u001b[0m\u001b[1;36m3\u001b[0m\u001b[1;33m)\u001b[0m\u001b[1;33m\u001b[0m\u001b[1;33m\u001b[0m\u001b[0m\n\u001b[0m\u001b[0;32m      3\u001b[0m \u001b[0mprint\u001b[0m\u001b[1;33m(\u001b[0m\u001b[0ma\u001b[0m\u001b[1;33m)\u001b[0m\u001b[1;33m\u001b[0m\u001b[1;33m\u001b[0m\u001b[0m\n\u001b[0;32m      4\u001b[0m \u001b[0mprint\u001b[0m\u001b[1;33m(\u001b[0m\u001b[0ma\u001b[0m\u001b[1;33m*\u001b[0m\u001b[1;36m3\u001b[0m\u001b[1;33m)\u001b[0m\u001b[1;33m\u001b[0m\u001b[1;33m\u001b[0m\u001b[0m\n\u001b[0;32m      5\u001b[0m \u001b[0mprint\u001b[0m\u001b[1;33m(\u001b[0m\u001b[0mpi\u001b[0m\u001b[1;33m.\u001b[0m\u001b[0mevalf\u001b[0m\u001b[1;33m(\u001b[0m\u001b[1;33m)\u001b[0m\u001b[1;33m)\u001b[0m\u001b[1;33m\u001b[0m\u001b[1;33m\u001b[0m\u001b[0m\n",
      "\u001b[1;31mNameError\u001b[0m: name 'Rational' is not defined"
     ]
    }
   ],
   "source": [
    "from sympy import *\n",
    "a=Rational(1,3)\n",
    "print(a)\n",
    "print(a*3)\n",
    "print(pi.evalf())\n",
    "print(exp(1).evalf())\n",
    "print(oo + 1000)\n",
    "x =Symbol('x')\n",
    "y=Symbol('y')\n",
    "print((x+y)-(x-y))\n",
    "print(integrate(x**2,x))\n",
    "print(diff(x**2,x))\n",
    "print(expand((x+y)**2))\n",
    "print(series(cos(x),x))\n",
    "print(integrate(x**3,(x,-1,1)))\n",
    "A=Matrix([[1,2],[1,2]])\n",
    "b=Matrix([[1,2],[1,2]])\n",
    "print(A*b)\n",
    "exp=\"(x**2 + x)/ x\"\n",
    "print(sympify(exp))"
   ]
  },
  {
   "cell_type": "code",
   "execution_count": 17,
   "id": "eba7d0bf",
   "metadata": {},
   "outputs": [
    {
     "ename": "NameError",
     "evalue": "name 'Symbol' is not defined",
     "output_type": "error",
     "traceback": [
      "\u001b[1;31m---------------------------------------------------------------------------\u001b[0m",
      "\u001b[1;31mNameError\u001b[0m                                 Traceback (most recent call last)",
      "\u001b[1;32m~\\AppData\\Local\\Temp/ipykernel_19708/523058643.py\u001b[0m in \u001b[0;36m<module>\u001b[1;34m\u001b[0m\n\u001b[0;32m      1\u001b[0m \u001b[1;32mfrom\u001b[0m \u001b[0msympy\u001b[0m \u001b[1;32mimport\u001b[0m \u001b[1;33m*\u001b[0m\u001b[1;33m\u001b[0m\u001b[1;33m\u001b[0m\u001b[0m\n\u001b[0;32m      2\u001b[0m \u001b[1;33m\u001b[0m\u001b[0m\n\u001b[1;32m----> 3\u001b[1;33m \u001b[0mx\u001b[0m\u001b[1;33m=\u001b[0m\u001b[0mSymbol\u001b[0m\u001b[1;33m(\u001b[0m\u001b[1;34m'x'\u001b[0m\u001b[1;33m)\u001b[0m\u001b[1;33m\u001b[0m\u001b[1;33m\u001b[0m\u001b[0m\n\u001b[0m\u001b[0;32m      4\u001b[0m \u001b[0my\u001b[0m\u001b[1;33m=\u001b[0m\u001b[0mSymbol\u001b[0m\u001b[1;33m(\u001b[0m\u001b[1;34m'y'\u001b[0m\u001b[1;33m)\u001b[0m\u001b[1;33m\u001b[0m\u001b[1;33m\u001b[0m\u001b[0m\n\u001b[0;32m      5\u001b[0m \u001b[0msimplify\u001b[0m\u001b[1;33m(\u001b[0m\u001b[1;34m\"((x**2) + x)/x\"\u001b[0m\u001b[1;33m)\u001b[0m\u001b[1;33m\u001b[0m\u001b[1;33m\u001b[0m\u001b[0m\n",
      "\u001b[1;31mNameError\u001b[0m: name 'Symbol' is not defined"
     ]
    }
   ],
   "source": [
    "from sympy import *\n",
    "\n",
    "x=Symbol('x')\n",
    "y=Symbol('y')\n",
    "simplify(\"((x**2) + x)/x\")\n",
    "print(solve((x + y + 5, x-y)))"
   ]
  },
  {
   "cell_type": "code",
   "execution_count": 18,
   "id": "9dd45b25",
   "metadata": {},
   "outputs": [
    {
     "ename": "NameError",
     "evalue": "name 'Rational' is not defined",
     "output_type": "error",
     "traceback": [
      "\u001b[1;31m---------------------------------------------------------------------------\u001b[0m",
      "\u001b[1;31mNameError\u001b[0m                                 Traceback (most recent call last)",
      "\u001b[1;32m~\\AppData\\Local\\Temp/ipykernel_19708/740635402.py\u001b[0m in \u001b[0;36m<module>\u001b[1;34m\u001b[0m\n\u001b[0;32m      1\u001b[0m \u001b[1;32mfrom\u001b[0m \u001b[0msympy\u001b[0m \u001b[1;32mimport\u001b[0m \u001b[1;33m*\u001b[0m\u001b[1;33m\u001b[0m\u001b[1;33m\u001b[0m\u001b[0m\n\u001b[1;32m----> 2\u001b[1;33m \u001b[0ma\u001b[0m\u001b[1;33m=\u001b[0m\u001b[0mRational\u001b[0m\u001b[1;33m(\u001b[0m\u001b[1;36m1\u001b[0m\u001b[1;33m,\u001b[0m\u001b[1;36m3\u001b[0m\u001b[1;33m)\u001b[0m\u001b[1;33m\u001b[0m\u001b[1;33m\u001b[0m\u001b[0m\n\u001b[0m\u001b[0;32m      3\u001b[0m \u001b[0mx\u001b[0m\u001b[1;33m=\u001b[0m\u001b[0mSymbol\u001b[0m\u001b[1;33m(\u001b[0m\u001b[1;34m'x'\u001b[0m\u001b[1;33m)\u001b[0m\u001b[1;33m\u001b[0m\u001b[1;33m\u001b[0m\u001b[0m\n\u001b[0;32m      4\u001b[0m \u001b[0my\u001b[0m\u001b[1;33m=\u001b[0m\u001b[0mSymbol\u001b[0m\u001b[1;33m(\u001b[0m\u001b[1;34m'y'\u001b[0m\u001b[1;33m)\u001b[0m\u001b[1;33m\u001b[0m\u001b[1;33m\u001b[0m\u001b[0m\n\u001b[0;32m      5\u001b[0m \u001b[0mprint\u001b[0m\u001b[1;33m(\u001b[0m\u001b[0ma\u001b[0m\u001b[1;33m)\u001b[0m\u001b[1;33m\u001b[0m\u001b[1;33m\u001b[0m\u001b[0m\n",
      "\u001b[1;31mNameError\u001b[0m: name 'Rational' is not defined"
     ]
    }
   ],
   "source": [
    "from sympy import *\n",
    "a=Rational(1,3)\n",
    "x=Symbol('x')\n",
    "y=Symbol('y')\n",
    "print(a)\n",
    "print(Pow(2,10))\n",
    "simplify(\"((x**2) + x)/x\")\n",
    "solve((x + y + 5, x-y))"
   ]
  },
  {
   "cell_type": "code",
   "execution_count": 8,
   "id": "02ae3635",
   "metadata": {},
   "outputs": [
    {
     "name": "stdout",
     "output_type": "stream",
     "text": [
      "X     \n",
      "------\n",
      "Krena \n",
      "Daniel\n"
     ]
    }
   ],
   "source": [
    "from pyDatalog import pyDatalog\n",
    "pyDatalog.create_atoms('male,female,gra,grandma,parent,X,Y,son,father,Z')\n",
    "+male('Adam')\n",
    "+male('Henry')\n",
    "+male('Daniel')\n",
    "+female('Eve')\n",
    "+female('Krena')\n",
    "+parent('Adam','Henry')\n",
    "+parent('Eve','Henry')\n",
    "+parent('Henry','Daniel')\n",
    "+parent('Henry','Krena')\n",
    "son(X,Y) <= male(X) & parent(Y,X)\n",
    "father(X,Y) <= male(X) & parent(X,Y)\n",
    "gra(X,Y) <= male(X) & parent(X,Z) & parent(Z,Y)\n",
    "grandma(X,Y) <= female(X) & parent(X,Z) & parent(Z,Y)\n",
    "print(gra('Adam',X))"
   ]
  },
  {
   "cell_type": "code",
   "execution_count": 9,
   "id": "ecc4b72c",
   "metadata": {},
   "outputs": [
    {
     "name": "stdout",
     "output_type": "stream",
     "text": [
      "X   \n",
      "----\n",
      "bear\n"
     ]
    }
   ],
   "source": [
    "from pyDatalog import pyDatalog\n",
    "pyDatalog.create_atoms('big,small,brown,black,grey,X,Y,dab,dark')\n",
    "+big('bear')\n",
    "+big('elephant')\n",
    "+small('cat')\n",
    "+brown('bear')\n",
    "+black('cat')\n",
    "+grey('elephant')\n",
    "dark(X) <= black(X)\n",
    "dark(X) <= brown(X)\n",
    "dab(X) <= dark(X) & big(X)\n",
    "print(dab(X))"
   ]
  },
  {
   "cell_type": "code",
   "execution_count": 10,
   "id": "68cc49df",
   "metadata": {},
   "outputs": [
    {
     "name": "stdout",
     "output_type": "stream",
     "text": [
      "N\n",
      "-\n",
      "6\n"
     ]
    }
   ],
   "source": [
    "from pyDatalog import pyDatalog\n",
    "pyDatalog.create_terms('factorial, N')\n",
    "\n",
    "factorial[N] = N*factorial[N-1] \n",
    "factorial[1] = 1\n",
    "print(factorial[3]==N) "
   ]
  },
  {
   "cell_type": "code",
   "execution_count": 4,
   "id": "9b77b3dd",
   "metadata": {},
   "outputs": [
    {
     "name": "stdout",
     "output_type": "stream",
     "text": [
      "Samyak Jain 201\n"
     ]
    }
   ],
   "source": [
    "class Parent:\n",
    "    def __init__(self,fn,ln):\n",
    "        self.fn=fn\n",
    "        self.ln=ln\n",
    "    def display(self):\n",
    "        print(self.fn, self.ln)\n",
    "    \n",
    "class Child(Parent):\n",
    "    def __init__(self,fn,ln,gy):\n",
    "        super().__init__(fn,ln)\n",
    "        self.gy=gy\n",
    "    def display(self):\n",
    "        print(self.fn, self.ln, self.gy)\n",
    "x=Child(\"Samyak\", \"Jain\",201)\n",
    "x.display()"
   ]
  },
  {
   "cell_type": "code",
   "execution_count": null,
   "id": "1f949bc5",
   "metadata": {},
   "outputs": [],
   "source": []
  }
 ],
 "metadata": {
  "kernelspec": {
   "display_name": "Python 3 (ipykernel)",
   "language": "python",
   "name": "python3"
  },
  "language_info": {
   "codemirror_mode": {
    "name": "ipython",
    "version": 3
   },
   "file_extension": ".py",
   "mimetype": "text/x-python",
   "name": "python",
   "nbconvert_exporter": "python",
   "pygments_lexer": "ipython3",
   "version": "3.9.7"
  }
 },
 "nbformat": 4,
 "nbformat_minor": 5
}
